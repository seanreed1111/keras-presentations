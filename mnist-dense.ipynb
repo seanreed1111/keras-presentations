{
  "cells": [
    {
      "metadata": {
        "trusted": true
      },
      "cell_type": "code",
      "source": "'''Trains a Two Layer NN on the MNIST dataset.\n\nGets to 98.40% test accuracy after 20 epochs\n(there is *a lot* of margin for parameter tuning).\n2 seconds per epoch on a K520 GPU.\n'''\n\nfrom __future__ import print_function\n\nimport keras\nfrom keras.datasets import mnist\nfrom keras.models import Sequential\nfrom keras.layers import Dense, Dropout\nfrom keras.optimizers import RMSprop\nfrom keras.callbacks import EarlyStopping\n\n\nbatch_size = 128\nnum_classes = 10\nepochs = 2000\n\n# the data, shuffled and split between train and test sets\n(x_train, y_train), (x_test, y_test) = mnist.load_data()\n\nx_train = x_train.reshape(60000, 784)\nx_test = x_test.reshape(10000, 784)\nx_train = x_train.astype('float32')\nx_test = x_test.astype('float32')\nx_train /= 255\nx_test /= 255\nprint(x_train.shape[0], 'train samples')\nprint(x_test.shape[0], 'test samples')\n",
      "execution_count": 1,
      "outputs": [
        {
          "output_type": "stream",
          "text": "/home/nbuser/anaconda3_420/lib/python3.5/site-packages/h5py/__init__.py:36: FutureWarning: Conversion of the second argument of issubdtype from `float` to `np.floating` is deprecated. In future, it will be treated as `np.float64 == np.dtype(float).type`.\n  from ._conv import register_converters as _register_converters\nUsing TensorFlow backend.\n",
          "name": "stderr"
        },
        {
          "output_type": "stream",
          "text": "Downloading data from https://s3.amazonaws.com/img-datasets/mnist.npz\n11329536/11490434 [============================>.] - ETA: 0s60000 train samples\n10000 test samples\n",
          "name": "stdout"
        }
      ]
    },
    {
      "metadata": {
        "trusted": true
      },
      "cell_type": "code",
      "source": "y_train[0]",
      "execution_count": 2,
      "outputs": [
        {
          "output_type": "execute_result",
          "execution_count": 2,
          "data": {
            "text/plain": "5"
          },
          "metadata": {}
        }
      ]
    },
    {
      "metadata": {
        "trusted": true
      },
      "cell_type": "code",
      "source": "# convert class vectors to binary class matrices\ny_train = keras.utils.to_categorical(y_train, num_classes)\ny_test = keras.utils.to_categorical(y_test, num_classes)",
      "execution_count": 3,
      "outputs": []
    },
    {
      "metadata": {
        "trusted": true
      },
      "cell_type": "code",
      "source": "y_train[0]",
      "execution_count": 4,
      "outputs": [
        {
          "output_type": "execute_result",
          "execution_count": 4,
          "data": {
            "text/plain": "array([0., 0., 0., 0., 0., 1., 0., 0., 0., 0.])"
          },
          "metadata": {}
        }
      ]
    },
    {
      "metadata": {
        "trusted": true
      },
      "cell_type": "code",
      "source": "model = Sequential()\nmodel.add(Dense(10, activation='relu', input_shape=(784,)))\nmodel.add(Dense(20, activation='relu'))\nmodel.add(Dense(10, activation='softmax'))\n\nmodel.summary()\n\nmodel.compile(loss='categorical_crossentropy',\n              optimizer=RMSprop(),\n              metrics=['accuracy'])\n\nhistory = model.fit(x_train, y_train,\n                    batch_size=batch_size,\n                    epochs=epochs,\n                    verbose=1,\n                    validation_data=(x_test, y_test),\n                   callbacks=[EarlyStopping(min_delta=0,monitor='val_loss', mode='auto'\n                                            ,patience=50)])\nscore = model.evaluate(x_test, y_test, verbose=0)\nprint('\\nTest loss:', score[0])\nprint('Test accuracy:', score[1])",
      "execution_count": 5,
      "outputs": [
        {
          "output_type": "stream",
          "text": "_________________________________________________________________\nLayer (type)                 Output Shape              Param #   \n=================================================================\ndense_1 (Dense)              (None, 10)                7850      \n_________________________________________________________________\ndense_2 (Dense)              (None, 20)                220       \n_________________________________________________________________\ndense_3 (Dense)              (None, 10)                210       \n=================================================================\nTotal params: 8,280\nTrainable params: 8,280\nNon-trainable params: 0\n_________________________________________________________________\nTrain on 60000 samples, validate on 10000 samples\nEpoch 1/2000\n60000/60000 [==============================] - 2s - loss: 0.6380 - acc: 0.8240 - val_loss: 0.3303 - val_acc: 0.9038\nEpoch 2/2000\n60000/60000 [==============================] - 2s - loss: 0.3090 - acc: 0.9111 - val_loss: 0.2793 - val_acc: 0.9182\nEpoch 3/2000\n60000/60000 [==============================] - 2s - loss: 0.2697 - acc: 0.9221 - val_loss: 0.2500 - val_acc: 0.9257\nEpoch 4/2000\n60000/60000 [==============================] - 2s - loss: 0.2454 - acc: 0.9286 - val_loss: 0.2329 - val_acc: 0.9304\nEpoch 5/2000\n60000/60000 [==============================] - 2s - loss: 0.2279 - acc: 0.9340 - val_loss: 0.2249 - val_acc: 0.9349\nEpoch 6/2000\n60000/60000 [==============================] - 2s - loss: 0.2159 - acc: 0.9373 - val_loss: 0.2100 - val_acc: 0.9377\nEpoch 7/2000\n60000/60000 [==============================] - 2s - loss: 0.2067 - acc: 0.9397 - val_loss: 0.2060 - val_acc: 0.9411\nEpoch 8/2000\n60000/60000 [==============================] - 3s - loss: 0.2005 - acc: 0.9417 - val_loss: 0.2018 - val_acc: 0.9424\nEpoch 9/2000\n60000/60000 [==============================] - 2s - loss: 0.1942 - acc: 0.9434 - val_loss: 0.2006 - val_acc: 0.9417\nEpoch 10/2000\n60000/60000 [==============================] - 3s - loss: 0.1896 - acc: 0.9449 - val_loss: 0.1991 - val_acc: 0.9439\nEpoch 11/2000\n60000/60000 [==============================] - 2s - loss: 0.1863 - acc: 0.9454 - val_loss: 0.2052 - val_acc: 0.9413\nEpoch 12/2000\n60000/60000 [==============================] - 2s - loss: 0.1831 - acc: 0.9466 - val_loss: 0.1917 - val_acc: 0.9433\nEpoch 13/2000\n60000/60000 [==============================] - 3s - loss: 0.1797 - acc: 0.9478 - val_loss: 0.1971 - val_acc: 0.9437\nEpoch 14/2000\n60000/60000 [==============================] - 2s - loss: 0.1773 - acc: 0.9483 - val_loss: 0.1921 - val_acc: 0.9445\nEpoch 15/2000\n60000/60000 [==============================] - 3s - loss: 0.1744 - acc: 0.9492 - val_loss: 0.1929 - val_acc: 0.9429\nEpoch 16/2000\n60000/60000 [==============================] - 2s - loss: 0.1727 - acc: 0.9493 - val_loss: 0.1919 - val_acc: 0.9450\nEpoch 17/2000\n60000/60000 [==============================] - 2s - loss: 0.1703 - acc: 0.9497 - val_loss: 0.1895 - val_acc: 0.9448\nEpoch 18/2000\n60000/60000 [==============================] - 3s - loss: 0.1685 - acc: 0.9506 - val_loss: 0.1992 - val_acc: 0.9435\nEpoch 19/2000\n60000/60000 [==============================] - 2s - loss: 0.1669 - acc: 0.9516 - val_loss: 0.1966 - val_acc: 0.9440\nEpoch 20/2000\n60000/60000 [==============================] - 2s - loss: 0.1654 - acc: 0.9515 - val_loss: 0.1970 - val_acc: 0.9432\nEpoch 21/2000\n60000/60000 [==============================] - 2s - loss: 0.1643 - acc: 0.9521 - val_loss: 0.1889 - val_acc: 0.9463\nEpoch 22/2000\n60000/60000 [==============================] - 2s - loss: 0.1618 - acc: 0.9524 - val_loss: 0.1890 - val_acc: 0.9458\nEpoch 23/2000\n60000/60000 [==============================] - 2s - loss: 0.1608 - acc: 0.9524 - val_loss: 0.1880 - val_acc: 0.9447\nEpoch 24/2000\n60000/60000 [==============================] - 2s - loss: 0.1594 - acc: 0.9534 - val_loss: 0.1890 - val_acc: 0.9471\nEpoch 25/2000\n60000/60000 [==============================] - 2s - loss: 0.1582 - acc: 0.9527 - val_loss: 0.1922 - val_acc: 0.9460\nEpoch 26/2000\n60000/60000 [==============================] - 2s - loss: 0.1578 - acc: 0.9532 - val_loss: 0.1898 - val_acc: 0.9443\nEpoch 27/2000\n60000/60000 [==============================] - 2s - loss: 0.1558 - acc: 0.9544 - val_loss: 0.1856 - val_acc: 0.9490\nEpoch 28/2000\n60000/60000 [==============================] - 2s - loss: 0.1555 - acc: 0.9542 - val_loss: 0.2042 - val_acc: 0.9434\nEpoch 29/2000\n60000/60000 [==============================] - 2s - loss: 0.1544 - acc: 0.9539 - val_loss: 0.1876 - val_acc: 0.9481\nEpoch 30/2000\n60000/60000 [==============================] - 2s - loss: 0.1533 - acc: 0.9548 - val_loss: 0.1851 - val_acc: 0.9478\nEpoch 31/2000\n60000/60000 [==============================] - 2s - loss: 0.1516 - acc: 0.9547 - val_loss: 0.1920 - val_acc: 0.9469\nEpoch 32/2000\n60000/60000 [==============================] - 2s - loss: 0.1515 - acc: 0.9556 - val_loss: 0.1872 - val_acc: 0.9463\nEpoch 33/2000\n60000/60000 [==============================] - 1s - loss: 0.1504 - acc: 0.9556 - val_loss: 0.1926 - val_acc: 0.9474\nEpoch 34/2000\n60000/60000 [==============================] - 2s - loss: 0.1496 - acc: 0.9560 - val_loss: 0.2069 - val_acc: 0.9416\nEpoch 35/2000\n60000/60000 [==============================] - 2s - loss: 0.1486 - acc: 0.9562 - val_loss: 0.1901 - val_acc: 0.9480\nEpoch 36/2000\n60000/60000 [==============================] - 2s - loss: 0.1490 - acc: 0.9556 - val_loss: 0.1989 - val_acc: 0.9438\nEpoch 37/2000\n60000/60000 [==============================] - 2s - loss: 0.1477 - acc: 0.9565 - val_loss: 0.1894 - val_acc: 0.9471\nEpoch 38/2000\n60000/60000 [==============================] - 2s - loss: 0.1468 - acc: 0.9560 - val_loss: 0.1850 - val_acc: 0.9485\nEpoch 39/2000\n60000/60000 [==============================] - 2s - loss: 0.1458 - acc: 0.9574 - val_loss: 0.1865 - val_acc: 0.9491\nEpoch 40/2000\n60000/60000 [==============================] - 2s - loss: 0.1449 - acc: 0.9573 - val_loss: 0.1919 - val_acc: 0.9485\nEpoch 41/2000\n60000/60000 [==============================] - 2s - loss: 0.1445 - acc: 0.9576 - val_loss: 0.1940 - val_acc: 0.9454\nEpoch 42/2000\n60000/60000 [==============================] - 2s - loss: 0.1437 - acc: 0.9571 - val_loss: 0.1900 - val_acc: 0.9482\nEpoch 43/2000\n60000/60000 [==============================] - 2s - loss: 0.1432 - acc: 0.9578 - val_loss: 0.1906 - val_acc: 0.9482\nEpoch 44/2000\n60000/60000 [==============================] - 2s - loss: 0.1425 - acc: 0.9574 - val_loss: 0.1930 - val_acc: 0.9452\nEpoch 45/2000\n60000/60000 [==============================] - 2s - loss: 0.1425 - acc: 0.9582 - val_loss: 0.1914 - val_acc: 0.9494\nEpoch 46/2000\n60000/60000 [==============================] - 2s - loss: 0.1414 - acc: 0.9581 - val_loss: 0.1905 - val_acc: 0.9475\nEpoch 47/2000\n60000/60000 [==============================] - 3s - loss: 0.1408 - acc: 0.9586 - val_loss: 0.1933 - val_acc: 0.9450\nEpoch 48/2000\n60000/60000 [==============================] - 2s - loss: 0.1405 - acc: 0.9586 - val_loss: 0.1908 - val_acc: 0.9475\nEpoch 49/2000\n60000/60000 [==============================] - 3s - loss: 0.1402 - acc: 0.9587 - val_loss: 0.1908 - val_acc: 0.9489\nEpoch 50/2000\n60000/60000 [==============================] - 3s - loss: 0.1400 - acc: 0.9593 - val_loss: 0.1928 - val_acc: 0.9479\nEpoch 51/2000\n60000/60000 [==============================] - 2s - loss: 0.1386 - acc: 0.9598 - val_loss: 0.1934 - val_acc: 0.9469\nEpoch 52/2000\n60000/60000 [==============================] - 1s - loss: 0.1384 - acc: 0.9593 - val_loss: 0.1929 - val_acc: 0.9477\nEpoch 53/2000\n60000/60000 [==============================] - 2s - loss: 0.1378 - acc: 0.9597 - val_loss: 0.1984 - val_acc: 0.9441\nEpoch 54/2000\n60000/60000 [==============================] - 2s - loss: 0.1372 - acc: 0.9590 - val_loss: 0.1996 - val_acc: 0.9480\nEpoch 55/2000\n60000/60000 [==============================] - 2s - loss: 0.1372 - acc: 0.9592 - val_loss: 0.1882 - val_acc: 0.9490\nEpoch 56/2000\n60000/60000 [==============================] - 2s - loss: 0.1364 - acc: 0.9594 - val_loss: 0.2006 - val_acc: 0.9463\nEpoch 57/2000\n60000/60000 [==============================] - 2s - loss: 0.1359 - acc: 0.9598 - val_loss: 0.1901 - val_acc: 0.9490\nEpoch 58/2000\n",
          "name": "stdout"
        },
        {
          "output_type": "stream",
          "text": "60000/60000 [==============================] - 2s - loss: 0.1356 - acc: 0.9602 - val_loss: 0.2120 - val_acc: 0.9433\nEpoch 59/2000\n60000/60000 [==============================] - 2s - loss: 0.1356 - acc: 0.9602 - val_loss: 0.1957 - val_acc: 0.9482\nEpoch 60/2000\n60000/60000 [==============================] - 2s - loss: 0.1352 - acc: 0.9601 - val_loss: 0.1950 - val_acc: 0.9474\nEpoch 61/2000\n60000/60000 [==============================] - 2s - loss: 0.1348 - acc: 0.9598 - val_loss: 0.1930 - val_acc: 0.9487\nEpoch 62/2000\n60000/60000 [==============================] - 2s - loss: 0.1347 - acc: 0.9604 - val_loss: 0.1962 - val_acc: 0.9465\nEpoch 63/2000\n60000/60000 [==============================] - 2s - loss: 0.1337 - acc: 0.9611 - val_loss: 0.1953 - val_acc: 0.9474\nEpoch 64/2000\n60000/60000 [==============================] - 2s - loss: 0.1338 - acc: 0.9603 - val_loss: 0.1935 - val_acc: 0.9492\nEpoch 65/2000\n60000/60000 [==============================] - 2s - loss: 0.1337 - acc: 0.9604 - val_loss: 0.1987 - val_acc: 0.9481\nEpoch 66/2000\n60000/60000 [==============================] - 2s - loss: 0.1330 - acc: 0.9605 - val_loss: 0.1936 - val_acc: 0.9478\nEpoch 67/2000\n60000/60000 [==============================] - 2s - loss: 0.1327 - acc: 0.9609 - val_loss: 0.1996 - val_acc: 0.9476\nEpoch 68/2000\n60000/60000 [==============================] - 2s - loss: 0.1319 - acc: 0.9617 - val_loss: 0.1949 - val_acc: 0.9466\nEpoch 69/2000\n60000/60000 [==============================] - 3s - loss: 0.1323 - acc: 0.9614 - val_loss: 0.1940 - val_acc: 0.9485\nEpoch 70/2000\n60000/60000 [==============================] - 2s - loss: 0.1319 - acc: 0.9613 - val_loss: 0.1963 - val_acc: 0.9481\nEpoch 71/2000\n60000/60000 [==============================] - 2s - loss: 0.1310 - acc: 0.9616 - val_loss: 0.2032 - val_acc: 0.9467\nEpoch 72/2000\n60000/60000 [==============================] - 2s - loss: 0.1311 - acc: 0.9616 - val_loss: 0.2014 - val_acc: 0.9481\nEpoch 73/2000\n60000/60000 [==============================] - 2s - loss: 0.1308 - acc: 0.9614 - val_loss: 0.2025 - val_acc: 0.9468\nEpoch 74/2000\n60000/60000 [==============================] - 3s - loss: 0.1312 - acc: 0.9617 - val_loss: 0.1999 - val_acc: 0.9469\nEpoch 75/2000\n60000/60000 [==============================] - 3s - loss: 0.1301 - acc: 0.9615 - val_loss: 0.2130 - val_acc: 0.9452\nEpoch 76/2000\n60000/60000 [==============================] - 2s - loss: 0.1306 - acc: 0.9616 - val_loss: 0.1960 - val_acc: 0.9492\nEpoch 77/2000\n60000/60000 [==============================] - 1s - loss: 0.1299 - acc: 0.9623 - val_loss: 0.1989 - val_acc: 0.9485\nEpoch 78/2000\n60000/60000 [==============================] - 1s - loss: 0.1290 - acc: 0.9624 - val_loss: 0.2014 - val_acc: 0.9478\nEpoch 79/2000\n60000/60000 [==============================] - 2s - loss: 0.1292 - acc: 0.9620 - val_loss: 0.1949 - val_acc: 0.9506\nEpoch 80/2000\n60000/60000 [==============================] - 2s - loss: 0.1290 - acc: 0.9623 - val_loss: 0.1960 - val_acc: 0.9508\nEpoch 81/2000\n60000/60000 [==============================] - 2s - loss: 0.1284 - acc: 0.9620 - val_loss: 0.2044 - val_acc: 0.9472\nEpoch 82/2000\n60000/60000 [==============================] - 2s - loss: 0.1286 - acc: 0.9622 - val_loss: 0.1986 - val_acc: 0.9489\nEpoch 83/2000\n60000/60000 [==============================] - 2s - loss: 0.1279 - acc: 0.9627 - val_loss: 0.1983 - val_acc: 0.9483\nEpoch 84/2000\n60000/60000 [==============================] - 2s - loss: 0.1280 - acc: 0.9622 - val_loss: 0.2011 - val_acc: 0.9491\nEpoch 85/2000\n60000/60000 [==============================] - 2s - loss: 0.1280 - acc: 0.9622 - val_loss: 0.1978 - val_acc: 0.9469\nEpoch 86/2000\n60000/60000 [==============================] - 2s - loss: 0.1272 - acc: 0.9632 - val_loss: 0.2005 - val_acc: 0.9488\nEpoch 87/2000\n60000/60000 [==============================] - 2s - loss: 0.1268 - acc: 0.9626 - val_loss: 0.1993 - val_acc: 0.9497\nEpoch 88/2000\n60000/60000 [==============================] - 2s - loss: 0.1271 - acc: 0.9624 - val_loss: 0.2178 - val_acc: 0.9452\nEpoch 89/2000\n60000/60000 [==============================] - 2s - loss: 0.1271 - acc: 0.9627 - val_loss: 0.2008 - val_acc: 0.9497\n\nTest loss: 0.2008257111540064\nTest accuracy: 0.9497\n",
          "name": "stdout"
        }
      ]
    },
    {
      "metadata": {
        "trusted": true
      },
      "cell_type": "code",
      "source": "y_train[0]",
      "execution_count": 6,
      "outputs": [
        {
          "data": {
            "text/plain": "array([0., 0., 0., 0., 0., 1., 0., 0., 0., 0.])"
          },
          "execution_count": 6,
          "metadata": {},
          "output_type": "execute_result"
        }
      ]
    },
    {
      "metadata": {
        "trusted": true
      },
      "cell_type": "code",
      "source": "type(history)",
      "execution_count": 7,
      "outputs": [
        {
          "data": {
            "text/plain": "keras.callbacks.History"
          },
          "execution_count": 7,
          "metadata": {},
          "output_type": "execute_result"
        }
      ]
    },
    {
      "metadata": {
        "trusted": true
      },
      "cell_type": "code",
      "source": "model.save('mymodel.h5')",
      "execution_count": 8,
      "outputs": []
    },
    {
      "metadata": {
        "trusted": true
      },
      "cell_type": "code",
      "source": "!mkdir new_dir",
      "execution_count": 9,
      "outputs": [
        {
          "name": "stdout",
          "output_type": "stream",
          "text": "mkdir: cannot create directory ‘new_dir’: File exists\r\n"
        }
      ]
    },
    {
      "metadata": {
        "trusted": true
      },
      "cell_type": "code",
      "source": "!ls",
      "execution_count": 10,
      "outputs": [
        {
          "name": "stdout",
          "output_type": "stream",
          "text": "5.1-introduction-to-convnets.ipynb\r\n6.1-using-word-embeddings.ipynb\r\n6.2-understanding-recurrent-neural-networks.ipynb\r\n6.3-advanced-usage-of-recurrent-neural-networks.ipynb\r\nimdb-RNN-LSTM.ipynb\r\nlstm_seq2seq.ipynb\r\nmnist-CNN.ipynb\r\nmnist-DenseNN.ipynb\r\nmnist.ipynb\r\nmnist-iRNN.ipynb\r\nmnist-Linear-Classifier.ipynb\r\nmymodel.h5\r\nnew_dir\r\nREADME.md\r\n"
        }
      ]
    },
    {
      "metadata": {
        "trusted": true
      },
      "cell_type": "code",
      "source": "from keras.callbacks import EarlyStopping",
      "execution_count": 11,
      "outputs": []
    },
    {
      "metadata": {
        "trusted": true
      },
      "cell_type": "code",
      "source": "",
      "execution_count": null,
      "outputs": []
    }
  ],
  "metadata": {
    "kernelspec": {
      "name": "python3",
      "display_name": "Python 3",
      "language": "python"
    },
    "language_info": {
      "mimetype": "text/x-python",
      "nbconvert_exporter": "python",
      "name": "python",
      "pygments_lexer": "ipython3",
      "version": "3.5.4",
      "file_extension": ".py",
      "codemirror_mode": {
        "version": 3,
        "name": "ipython"
      }
    }
  },
  "nbformat": 4,
  "nbformat_minor": 2
}